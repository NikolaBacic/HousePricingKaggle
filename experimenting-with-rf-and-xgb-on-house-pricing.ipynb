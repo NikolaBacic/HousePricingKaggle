{
 "cells": [
  {
   "cell_type": "code",
   "execution_count": 1,
   "metadata": {
    "_uuid": "164de61d30fb0cdf2a07f852de279a03d9bf6986"
   },
   "outputs": [],
   "source": [
    "%load_ext autoreload\n",
    "%autoreload 2\n",
    "\n",
    "%matplotlib inline"
   ]
  },
  {
   "cell_type": "code",
   "execution_count": 2,
   "metadata": {
    "_uuid": "46241a8ea94abcf41bc617929151f5ad875cebe3"
   },
   "outputs": [
    {
     "name": "stdout",
     "output_type": "stream",
     "text": [
      "Collecting git+https://github.com/fastai/fastai@2e1ccb58121dc648751e2109fc0fbf6925aa8887\r\n",
      "  Cloning https://github.com/fastai/fastai (to revision 2e1ccb58121dc648751e2109fc0fbf6925aa8887) to /tmp/pip-req-build-rwbyexx4\r\n",
      "Requirement already satisfied: bcolz in /opt/conda/lib/python3.6/site-packages (from fastai==0.7.0) (1.2.1)\r\n",
      "Requirement already satisfied: bleach in /opt/conda/lib/python3.6/site-packages (from fastai==0.7.0) (2.1.3)\r\n",
      "Requirement already satisfied: certifi in /opt/conda/lib/python3.6/site-packages (from fastai==0.7.0) (2019.3.9)\r\n",
      "Requirement already satisfied: cycler in /opt/conda/lib/python3.6/site-packages (from fastai==0.7.0) (0.10.0)\r\n",
      "Requirement already satisfied: decorator in /opt/conda/lib/python3.6/site-packages (from fastai==0.7.0) (4.3.0)\r\n",
      "Requirement already satisfied: entrypoints in /opt/conda/lib/python3.6/site-packages (from fastai==0.7.0) (0.2.3)\r\n",
      "Requirement already satisfied: feather-format in /opt/conda/lib/python3.6/site-packages (from fastai==0.7.0) (0.4.0)\r\n",
      "Requirement already satisfied: graphviz in /opt/conda/lib/python3.6/site-packages (from fastai==0.7.0) (0.8.4)\r\n",
      "Requirement already satisfied: html5lib in /opt/conda/lib/python3.6/site-packages (from fastai==0.7.0) (1.0.1)\r\n",
      "Requirement already satisfied: ipykernel in /opt/conda/lib/python3.6/site-packages (from fastai==0.7.0) (4.8.2)\r\n",
      "Requirement already satisfied: ipython in /opt/conda/lib/python3.6/site-packages (from fastai==0.7.0) (6.4.0)\r\n",
      "Requirement already satisfied: ipython-genutils in /opt/conda/lib/python3.6/site-packages (from fastai==0.7.0) (0.2.0)\r\n",
      "Requirement already satisfied: ipywidgets in /opt/conda/lib/python3.6/site-packages (from fastai==0.7.0) (7.2.1)\r\n",
      "Requirement already satisfied: isoweek in /opt/conda/lib/python3.6/site-packages (from fastai==0.7.0) (1.3.3)\r\n",
      "Requirement already satisfied: jedi in /opt/conda/lib/python3.6/site-packages (from fastai==0.7.0) (0.12.0)\r\n",
      "Requirement already satisfied: Jinja2 in /opt/conda/lib/python3.6/site-packages (from fastai==0.7.0) (2.10)\r\n",
      "Requirement already satisfied: jsonschema in /opt/conda/lib/python3.6/site-packages (from fastai==0.7.0) (2.6.0)\r\n",
      "Requirement already satisfied: jupyter in /opt/conda/lib/python3.6/site-packages (from fastai==0.7.0) (1.0.0)\r\n",
      "Requirement already satisfied: MarkupSafe in /opt/conda/lib/python3.6/site-packages (from fastai==0.7.0) (1.0)\r\n",
      "Requirement already satisfied: matplotlib in /opt/conda/lib/python3.6/site-packages (from fastai==0.7.0) (2.2.2)\r\n",
      "Requirement already satisfied: numpy in /opt/conda/lib/python3.6/site-packages (from fastai==0.7.0) (1.16.2)\r\n",
      "Requirement already satisfied: opencv-python in /opt/conda/lib/python3.6/site-packages (from fastai==0.7.0) (4.0.0.21)\r\n",
      "Requirement already satisfied: pandas in /opt/conda/lib/python3.6/site-packages (from fastai==0.7.0) (0.23.4)\r\n",
      "Requirement already satisfied: pandas_summary in /opt/conda/lib/python3.6/site-packages (from fastai==0.7.0) (0.0.6)\r\n",
      "Requirement already satisfied: pickleshare in /opt/conda/lib/python3.6/site-packages (from fastai==0.7.0) (0.7.4)\r\n",
      "Requirement already satisfied: Pillow in /opt/conda/lib/python3.6/site-packages (from fastai==0.7.0) (5.1.0)\r\n",
      "Requirement already satisfied: plotnine in /opt/conda/lib/python3.6/site-packages (from fastai==0.7.0) (0.4.0)\r\n",
      "Requirement already satisfied: ptyprocess in /opt/conda/lib/python3.6/site-packages (from fastai==0.7.0) (0.5.2)\r\n",
      "Requirement already satisfied: Pygments in /opt/conda/lib/python3.6/site-packages (from fastai==0.7.0) (2.2.0)\r\n",
      "Requirement already satisfied: pyparsing in /opt/conda/lib/python3.6/site-packages (from fastai==0.7.0) (2.2.0)\r\n",
      "Requirement already satisfied: python-dateutil in /opt/conda/lib/python3.6/site-packages (from fastai==0.7.0) (2.6.0)\r\n",
      "Requirement already satisfied: pytz in /opt/conda/lib/python3.6/site-packages (from fastai==0.7.0) (2018.4)\r\n",
      "Requirement already satisfied: PyYAML in /opt/conda/lib/python3.6/site-packages (from fastai==0.7.0) (3.12)\r\n",
      "Requirement already satisfied: pyzmq in /opt/conda/lib/python3.6/site-packages (from fastai==0.7.0) (17.0.0)\r\n",
      "Requirement already satisfied: scipy in /opt/conda/lib/python3.6/site-packages (from fastai==0.7.0) (1.1.0)\r\n",
      "Requirement already satisfied: seaborn in /opt/conda/lib/python3.6/site-packages (from fastai==0.7.0) (0.9.0)\r\n",
      "Requirement already satisfied: simplegeneric in /opt/conda/lib/python3.6/site-packages (from fastai==0.7.0) (0.8.1)\r\n",
      "Requirement already satisfied: sklearn_pandas in /opt/conda/lib/python3.6/site-packages (from fastai==0.7.0) (1.8.0)\r\n",
      "Requirement already satisfied: spacy in /opt/conda/lib/python3.6/site-packages (from fastai==0.7.0) (2.0.18)\r\n",
      "Requirement already satisfied: testpath in /opt/conda/lib/python3.6/site-packages (from fastai==0.7.0) (0.3.1)\r\n",
      "Collecting torch<0.4 (from fastai==0.7.0)\r\n",
      "\u001b[?25l  Downloading https://files.pythonhosted.org/packages/5b/a5/e8b50b55b1abac9f1e3346c4242f1e42a82d368a8442cbd50c532922f6c4/torch-0.3.1-cp36-cp36m-manylinux1_x86_64.whl (496.4MB)\r\n",
      "\u001b[K    100% |████████████████████████████████| 496.4MB 73kB/s \r\n",
      "\u001b[?25hRequirement already satisfied: torchtext in /opt/conda/lib/python3.6/site-packages (from fastai==0.7.0) (0.3.1)\r\n",
      "Requirement already satisfied: torchvision in /opt/conda/lib/python3.6/site-packages (from fastai==0.7.0) (0.2.2)\r\n",
      "Requirement already satisfied: tornado in /opt/conda/lib/python3.6/site-packages (from fastai==0.7.0) (5.0.2)\r\n",
      "Requirement already satisfied: tqdm in /opt/conda/lib/python3.6/site-packages (from fastai==0.7.0) (4.31.1)\r\n",
      "Requirement already satisfied: traitlets in /opt/conda/lib/python3.6/site-packages (from fastai==0.7.0) (4.3.2)\r\n",
      "Requirement already satisfied: wcwidth in /opt/conda/lib/python3.6/site-packages (from fastai==0.7.0) (0.1.7)\r\n",
      "Requirement already satisfied: webencodings in /opt/conda/lib/python3.6/site-packages (from fastai==0.7.0) (0.5.1)\r\n",
      "Requirement already satisfied: widgetsnbextension in /opt/conda/lib/python3.6/site-packages (from fastai==0.7.0) (3.2.1)\r\n",
      "Requirement already satisfied: six in /opt/conda/lib/python3.6/site-packages (from bleach->fastai==0.7.0) (1.12.0)\r\n",
      "Requirement already satisfied: pyarrow>=0.4.0 in /opt/conda/lib/python3.6/site-packages (from feather-format->fastai==0.7.0) (0.10.0)\r\n",
      "Requirement already satisfied: jupyter_client in /opt/conda/lib/python3.6/site-packages (from ipykernel->fastai==0.7.0) (5.2.3)\r\n",
      "Requirement already satisfied: backcall in /opt/conda/lib/python3.6/site-packages (from ipython->fastai==0.7.0) (0.1.0)\r\n",
      "Requirement already satisfied: prompt-toolkit<2.0.0,>=1.0.15 in /opt/conda/lib/python3.6/site-packages (from ipython->fastai==0.7.0) (1.0.15)\r\n",
      "Requirement already satisfied: setuptools>=18.5 in /opt/conda/lib/python3.6/site-packages (from ipython->fastai==0.7.0) (39.1.0)\r\n",
      "Requirement already satisfied: pexpect; sys_platform != \"win32\" in /opt/conda/lib/python3.6/site-packages (from ipython->fastai==0.7.0) (4.5.0)\r\n",
      "Requirement already satisfied: nbformat>=4.2.0 in /opt/conda/lib/python3.6/site-packages (from ipywidgets->fastai==0.7.0) (4.4.0)\r\n",
      "Requirement already satisfied: parso>=0.2.0 in /opt/conda/lib/python3.6/site-packages (from jedi->fastai==0.7.0) (0.2.0)\r\n",
      "Requirement already satisfied: notebook in /opt/conda/lib/python3.6/site-packages (from jupyter->fastai==0.7.0) (5.5.0)\r\n",
      "Requirement already satisfied: qtconsole in /opt/conda/lib/python3.6/site-packages (from jupyter->fastai==0.7.0) (4.3.1)\r\n",
      "Requirement already satisfied: jupyter-console in /opt/conda/lib/python3.6/site-packages (from jupyter->fastai==0.7.0) (5.2.0)\r\n",
      "Requirement already satisfied: nbconvert in /opt/conda/lib/python3.6/site-packages (from jupyter->fastai==0.7.0) (5.3.1)\r\n",
      "Requirement already satisfied: kiwisolver>=1.0.1 in /opt/conda/lib/python3.6/site-packages (from matplotlib->fastai==0.7.0) (1.0.1)\r\n",
      "Requirement already satisfied: geopandas>=0.3.0 in /opt/conda/lib/python3.6/site-packages (from plotnine->fastai==0.7.0) (0.4.1)\r\n",
      "Requirement already satisfied: mizani>=0.4.5 in /opt/conda/lib/python3.6/site-packages (from plotnine->fastai==0.7.0) (0.5.3)\r\n",
      "Requirement already satisfied: patsy>=0.4.1 in /opt/conda/lib/python3.6/site-packages (from plotnine->fastai==0.7.0) (0.5.0)\r\n",
      "Requirement already satisfied: descartes>=1.1.0 in /opt/conda/lib/python3.6/site-packages (from plotnine->fastai==0.7.0) (1.1.0)\r\n",
      "Requirement already satisfied: statsmodels>=0.8.0 in /opt/conda/lib/python3.6/site-packages (from plotnine->fastai==0.7.0) (0.9.0)\r\n",
      "Requirement already satisfied: scikit-learn>=0.15.0 in /opt/conda/lib/python3.6/site-packages (from sklearn_pandas->fastai==0.7.0) (0.20.3)\r\n",
      "Requirement already satisfied: murmurhash<1.1.0,>=0.28.0 in /opt/conda/lib/python3.6/site-packages (from spacy->fastai==0.7.0) (1.0.0)\r\n",
      "Requirement already satisfied: cymem<2.1.0,>=2.0.2 in /opt/conda/lib/python3.6/site-packages (from spacy->fastai==0.7.0) (2.0.2)\r\n",
      "Requirement already satisfied: preshed<2.1.0,>=2.0.1 in /opt/conda/lib/python3.6/site-packages (from spacy->fastai==0.7.0) (2.0.1)\r\n",
      "Requirement already satisfied: thinc<6.13.0,>=6.12.1 in /opt/conda/lib/python3.6/site-packages (from spacy->fastai==0.7.0) (6.12.1)\r\n",
      "Requirement already satisfied: plac<1.0.0,>=0.9.6 in /opt/conda/lib/python3.6/site-packages (from spacy->fastai==0.7.0) (0.9.6)\r\n",
      "Requirement already satisfied: ujson>=1.35 in /opt/conda/lib/python3.6/site-packages (from spacy->fastai==0.7.0) (1.35)\r\n",
      "Requirement already satisfied: dill<0.3,>=0.2 in /opt/conda/lib/python3.6/site-packages (from spacy->fastai==0.7.0) (0.2.9)\r\n",
      "Requirement already satisfied: regex==2018.01.10 in /opt/conda/lib/python3.6/site-packages (from spacy->fastai==0.7.0) (2018.1.10)\r\n",
      "Requirement already satisfied: requests<3.0.0,>=2.13.0 in /opt/conda/lib/python3.6/site-packages (from spacy->fastai==0.7.0) (2.21.0)\r\n",
      "Requirement already satisfied: jupyter_core in /opt/conda/lib/python3.6/site-packages (from jupyter_client->ipykernel->fastai==0.7.0) (4.4.0)\r\n",
      "Requirement already satisfied: terminado>=0.8.1 in /opt/conda/lib/python3.6/site-packages (from notebook->jupyter->fastai==0.7.0) (0.8.1)\r\n",
      "Requirement already satisfied: Send2Trash in /opt/conda/lib/python3.6/site-packages (from notebook->jupyter->fastai==0.7.0) (1.5.0)\r\n",
      "Requirement already satisfied: mistune>=0.7.4 in /opt/conda/lib/python3.6/site-packages (from nbconvert->jupyter->fastai==0.7.0) (0.8.3)\r\n",
      "Requirement already satisfied: pandocfilters>=1.4.1 in /opt/conda/lib/python3.6/site-packages (from nbconvert->jupyter->fastai==0.7.0) (1.4.2)\r\n",
      "Requirement already satisfied: fiona in /opt/conda/lib/python3.6/site-packages (from geopandas>=0.3.0->plotnine->fastai==0.7.0) (1.8.4)\r\n",
      "Requirement already satisfied: pyproj in /opt/conda/lib/python3.6/site-packages (from geopandas>=0.3.0->plotnine->fastai==0.7.0) (2.0.1)\r\n",
      "Requirement already satisfied: shapely in /opt/conda/lib/python3.6/site-packages (from geopandas>=0.3.0->plotnine->fastai==0.7.0) (1.6.4.post2)\r\n",
      "Requirement already satisfied: palettable in /opt/conda/lib/python3.6/site-packages (from mizani>=0.4.5->plotnine->fastai==0.7.0) (3.1.1)\r\n",
      "Requirement already satisfied: msgpack<0.6.0,>=0.5.6 in /opt/conda/lib/python3.6/site-packages (from thinc<6.13.0,>=6.12.1->spacy->fastai==0.7.0) (0.5.6)\r\n",
      "Requirement already satisfied: msgpack-numpy<0.4.4 in /opt/conda/lib/python3.6/site-packages (from thinc<6.13.0,>=6.12.1->spacy->fastai==0.7.0) (0.4.3.2)\r\n",
      "Requirement already satisfied: cytoolz<0.10,>=0.9.0 in /opt/conda/lib/python3.6/site-packages (from thinc<6.13.0,>=6.12.1->spacy->fastai==0.7.0) (0.9.0.1)\r\n",
      "Requirement already satisfied: wrapt<1.11.0,>=1.10.0 in /opt/conda/lib/python3.6/site-packages (from thinc<6.13.0,>=6.12.1->spacy->fastai==0.7.0) (1.10.11)\r\n",
      "Requirement already satisfied: idna<2.9,>=2.5 in /opt/conda/lib/python3.6/site-packages (from requests<3.0.0,>=2.13.0->spacy->fastai==0.7.0) (2.6)\r\n",
      "Requirement already satisfied: chardet<3.1.0,>=3.0.2 in /opt/conda/lib/python3.6/site-packages (from requests<3.0.0,>=2.13.0->spacy->fastai==0.7.0) (3.0.4)\r\n",
      "Requirement already satisfied: urllib3<1.25,>=1.21.1 in /opt/conda/lib/python3.6/site-packages (from requests<3.0.0,>=2.13.0->spacy->fastai==0.7.0) (1.22)\r\n",
      "Requirement already satisfied: munch in /opt/conda/lib/python3.6/site-packages (from fiona->geopandas>=0.3.0->plotnine->fastai==0.7.0) (2.3.2)\r\n",
      "Requirement already satisfied: cligj>=0.5 in /opt/conda/lib/python3.6/site-packages (from fiona->geopandas>=0.3.0->plotnine->fastai==0.7.0) (0.5.0)\r\n",
      "Requirement already satisfied: click-plugins>=1.0 in /opt/conda/lib/python3.6/site-packages (from fiona->geopandas>=0.3.0->plotnine->fastai==0.7.0) (1.0.4)\r\n",
      "Requirement already satisfied: attrs>=17 in /opt/conda/lib/python3.6/site-packages (from fiona->geopandas>=0.3.0->plotnine->fastai==0.7.0) (18.1.0)\r\n",
      "Requirement already satisfied: click<8,>=4.0 in /opt/conda/lib/python3.6/site-packages (from fiona->geopandas>=0.3.0->plotnine->fastai==0.7.0) (7.0)\r\n",
      "Requirement already satisfied: toolz>=0.8.0 in /opt/conda/lib/python3.6/site-packages (from cytoolz<0.10,>=0.9.0->thinc<6.13.0,>=6.12.1->spacy->fastai==0.7.0) (0.9.0)\r\n",
      "Building wheels for collected packages: fastai\r\n",
      "  Building wheel for fastai (setup.py) ... \u001b[?25l-\b \bdone\r\n",
      "\u001b[?25h  Stored in directory: /tmp/pip-ephem-wheel-cache-zg2znaei/wheels/25/e9/9b/223e47f59c39f0bd393733db0f7efe8ec6f078d29c32198f9f\r\n",
      "Successfully built fastai\r\n",
      "Installing collected packages: torch, fastai\r\n",
      "  Found existing installation: torch 1.0.1.post2\r\n",
      "    Uninstalling torch-1.0.1.post2:\r\n",
      "      Successfully uninstalled torch-1.0.1.post2\r\n",
      "  Found existing installation: fastai 1.0.48\r\n",
      "    Uninstalling fastai-1.0.48:\r\n",
      "      Successfully uninstalled fastai-1.0.48\r\n",
      "Successfully installed fastai-0.7.0 torch-0.3.1\r\n",
      "Ign:1 http://deb.debian.org/debian stretch InRelease\r\n",
      "Get:2 http://security.debian.org/debian-security stretch/updates InRelease [94.3 kB]\r\n",
      "Get:3 http://deb.debian.org/debian stretch-updates InRelease [91.0 kB]\r\n",
      "Err:2 http://security.debian.org/debian-security stretch/updates InRelease\r\n",
      "  Couldn't create temporary file /tmp/apt.conf.7sKAhG for passing config to apt-key\r\n",
      "Err:3 http://deb.debian.org/debian stretch-updates InRelease\r\n",
      "  Couldn't create temporary file /tmp/apt.conf.5a7g6F for passing config to apt-key\r\n",
      "Hit:4 http://deb.debian.org/debian stretch Release\r\n",
      "Err:5 http://deb.debian.org/debian stretch Release.gpg\r\n",
      "  Couldn't create temporary file /tmp/apt.conf.AxQ0t8 for passing config to apt-key\r\n",
      "Fetched 185 kB in 0s (319 kB/s)\r\n",
      "\r\n",
      "\r\n",
      "\r\n",
      "42 packages can be upgraded. Run 'apt list --upgradable' to see them.\r\n",
      "W: An error occurred during the signature verification. The repository is not updated and the previous index files will be used. GPG error: http://security.debian.org/debian-security stretch/updates InRelease: Couldn't create temporary file /tmp/apt.conf.7sKAhG for passing config to apt-key\r\n",
      "W: An error occurred during the signature verification. The repository is not updated and the previous index files will be used. GPG error: http://deb.debian.org/debian stretch-updates InRelease: Couldn't create temporary file /tmp/apt.conf.5a7g6F for passing config to apt-key\r\n",
      "W: An error occurred during the signature verification. The repository is not updated and the previous index files will be used. GPG error: http://deb.debian.org/debian stretch Release: Couldn't create temporary file /tmp/apt.conf.AxQ0t8 for passing config to apt-key\r\n",
      "W: Failed to fetch http://deb.debian.org/debian/dists/stretch-updates/InRelease  Couldn't create temporary file /tmp/apt.conf.5a7g6F for passing config to apt-key\r\n",
      "W: Failed to fetch http://security.debian.org/debian-security/dists/stretch/updates/InRelease  Couldn't create temporary file /tmp/apt.conf.7sKAhG for passing config to apt-key\r\n",
      "W: Failed to fetch http://deb.debian.org/debian/dists/stretch/Release.gpg  Couldn't create temporary file /tmp/apt.conf.AxQ0t8 for passing config to apt-key\r\n",
      "W: Some index files failed to download. They have been ignored, or old ones used instead.\r\n",
      "\r\n",
      "\r\n",
      "\r\n",
      "libsm6 is already the newest version (2:1.2.2-1+b3).\r\n",
      "libxext6 is already the newest version (2:1.3.3-1+b2).\r\n",
      "0 upgraded, 0 newly installed, 0 to remove and 42 not upgraded.\r\n"
     ]
    }
   ],
   "source": [
    "!pip install git+https://github.com/fastai/fastai@2e1ccb58121dc648751e2109fc0fbf6925aa8887\n",
    "    \n",
    "!apt update && apt install -y libsm6 libxext6"
   ]
  },
  {
   "cell_type": "code",
   "execution_count": 3,
   "metadata": {
    "_uuid": "ebf38aa3d1ea9b444f77366b479d247c1a8d3fbc",
    "scrolled": true
   },
   "outputs": [],
   "source": [
    "from fastai.imports import *\n",
    "from fastai.structured import *\n",
    "\n",
    "from pandas_summary import DataFrameSummary\n",
    "from sklearn.ensemble import RandomForestRegressor\n",
    "from IPython.display import display\n",
    "from xgboost import XGBRegressor\n",
    "\n",
    "from sklearn import metrics\n",
    "from sklearn.metrics import mean_absolute_error\n",
    "\n",
    "import matplotlib.pyplot as plt"
   ]
  },
  {
   "cell_type": "code",
   "execution_count": 4,
   "metadata": {
    "_uuid": "6d64b4993d42a6172abcfd52ea53618f47e7dc10"
   },
   "outputs": [],
   "source": [
    "# Path of the file to read. We changed the directory structure to simplify submitting to a competition\n",
    "PATH = '../input/train.csv'\n",
    "\n",
    "df_raw = pd.read_csv(PATH,low_memory=False)\n"
   ]
  },
  {
   "cell_type": "code",
   "execution_count": 5,
   "metadata": {
    "_uuid": "a5087a16c278e9a7c00d15cdc719eed9833fd910"
   },
   "outputs": [
    {
     "data": {
      "text/html": [
       "<div>\n",
       "<style scoped>\n",
       "    .dataframe tbody tr th:only-of-type {\n",
       "        vertical-align: middle;\n",
       "    }\n",
       "\n",
       "    .dataframe tbody tr th {\n",
       "        vertical-align: top;\n",
       "    }\n",
       "\n",
       "    .dataframe thead th {\n",
       "        text-align: right;\n",
       "    }\n",
       "</style>\n",
       "<table border=\"1\" class=\"dataframe\">\n",
       "  <thead>\n",
       "    <tr style=\"text-align: right;\">\n",
       "      <th></th>\n",
       "      <th>Id</th>\n",
       "      <th>MSSubClass</th>\n",
       "      <th>MSZoning</th>\n",
       "      <th>LotFrontage</th>\n",
       "      <th>LotArea</th>\n",
       "      <th>Street</th>\n",
       "      <th>Alley</th>\n",
       "      <th>LotShape</th>\n",
       "      <th>LandContour</th>\n",
       "      <th>Utilities</th>\n",
       "      <th>LotConfig</th>\n",
       "      <th>LandSlope</th>\n",
       "      <th>Neighborhood</th>\n",
       "      <th>Condition1</th>\n",
       "      <th>Condition2</th>\n",
       "      <th>BldgType</th>\n",
       "      <th>HouseStyle</th>\n",
       "      <th>OverallQual</th>\n",
       "      <th>OverallCond</th>\n",
       "      <th>YearBuilt</th>\n",
       "      <th>YearRemodAdd</th>\n",
       "      <th>RoofStyle</th>\n",
       "      <th>RoofMatl</th>\n",
       "      <th>Exterior1st</th>\n",
       "      <th>Exterior2nd</th>\n",
       "      <th>MasVnrType</th>\n",
       "      <th>MasVnrArea</th>\n",
       "      <th>ExterQual</th>\n",
       "      <th>ExterCond</th>\n",
       "      <th>Foundation</th>\n",
       "      <th>BsmtQual</th>\n",
       "      <th>BsmtCond</th>\n",
       "      <th>BsmtExposure</th>\n",
       "      <th>BsmtFinType1</th>\n",
       "      <th>BsmtFinSF1</th>\n",
       "      <th>BsmtFinType2</th>\n",
       "      <th>BsmtFinSF2</th>\n",
       "      <th>BsmtUnfSF</th>\n",
       "      <th>TotalBsmtSF</th>\n",
       "      <th>Heating</th>\n",
       "      <th>...</th>\n",
       "      <th>CentralAir</th>\n",
       "      <th>Electrical</th>\n",
       "      <th>1stFlrSF</th>\n",
       "      <th>2ndFlrSF</th>\n",
       "      <th>LowQualFinSF</th>\n",
       "      <th>GrLivArea</th>\n",
       "      <th>BsmtFullBath</th>\n",
       "      <th>BsmtHalfBath</th>\n",
       "      <th>FullBath</th>\n",
       "      <th>HalfBath</th>\n",
       "      <th>BedroomAbvGr</th>\n",
       "      <th>KitchenAbvGr</th>\n",
       "      <th>KitchenQual</th>\n",
       "      <th>TotRmsAbvGrd</th>\n",
       "      <th>Functional</th>\n",
       "      <th>Fireplaces</th>\n",
       "      <th>FireplaceQu</th>\n",
       "      <th>GarageType</th>\n",
       "      <th>GarageYrBlt</th>\n",
       "      <th>GarageFinish</th>\n",
       "      <th>GarageCars</th>\n",
       "      <th>GarageArea</th>\n",
       "      <th>GarageQual</th>\n",
       "      <th>GarageCond</th>\n",
       "      <th>PavedDrive</th>\n",
       "      <th>WoodDeckSF</th>\n",
       "      <th>OpenPorchSF</th>\n",
       "      <th>EnclosedPorch</th>\n",
       "      <th>3SsnPorch</th>\n",
       "      <th>ScreenPorch</th>\n",
       "      <th>PoolArea</th>\n",
       "      <th>PoolQC</th>\n",
       "      <th>Fence</th>\n",
       "      <th>MiscFeature</th>\n",
       "      <th>MiscVal</th>\n",
       "      <th>MoSold</th>\n",
       "      <th>YrSold</th>\n",
       "      <th>SaleType</th>\n",
       "      <th>SaleCondition</th>\n",
       "      <th>SalePrice</th>\n",
       "    </tr>\n",
       "  </thead>\n",
       "  <tbody>\n",
       "    <tr>\n",
       "      <th>0</th>\n",
       "      <td>1</td>\n",
       "      <td>60</td>\n",
       "      <td>RL</td>\n",
       "      <td>65.0</td>\n",
       "      <td>8450</td>\n",
       "      <td>Pave</td>\n",
       "      <td>NaN</td>\n",
       "      <td>Reg</td>\n",
       "      <td>Lvl</td>\n",
       "      <td>AllPub</td>\n",
       "      <td>Inside</td>\n",
       "      <td>Gtl</td>\n",
       "      <td>CollgCr</td>\n",
       "      <td>Norm</td>\n",
       "      <td>Norm</td>\n",
       "      <td>1Fam</td>\n",
       "      <td>2Story</td>\n",
       "      <td>7</td>\n",
       "      <td>5</td>\n",
       "      <td>2003</td>\n",
       "      <td>2003</td>\n",
       "      <td>Gable</td>\n",
       "      <td>CompShg</td>\n",
       "      <td>VinylSd</td>\n",
       "      <td>VinylSd</td>\n",
       "      <td>BrkFace</td>\n",
       "      <td>196.0</td>\n",
       "      <td>Gd</td>\n",
       "      <td>TA</td>\n",
       "      <td>PConc</td>\n",
       "      <td>Gd</td>\n",
       "      <td>TA</td>\n",
       "      <td>No</td>\n",
       "      <td>GLQ</td>\n",
       "      <td>706</td>\n",
       "      <td>Unf</td>\n",
       "      <td>0</td>\n",
       "      <td>150</td>\n",
       "      <td>856</td>\n",
       "      <td>GasA</td>\n",
       "      <td>...</td>\n",
       "      <td>Y</td>\n",
       "      <td>SBrkr</td>\n",
       "      <td>856</td>\n",
       "      <td>854</td>\n",
       "      <td>0</td>\n",
       "      <td>1710</td>\n",
       "      <td>1</td>\n",
       "      <td>0</td>\n",
       "      <td>2</td>\n",
       "      <td>1</td>\n",
       "      <td>3</td>\n",
       "      <td>1</td>\n",
       "      <td>Gd</td>\n",
       "      <td>8</td>\n",
       "      <td>Typ</td>\n",
       "      <td>0</td>\n",
       "      <td>NaN</td>\n",
       "      <td>Attchd</td>\n",
       "      <td>2003.0</td>\n",
       "      <td>RFn</td>\n",
       "      <td>2</td>\n",
       "      <td>548</td>\n",
       "      <td>TA</td>\n",
       "      <td>TA</td>\n",
       "      <td>Y</td>\n",
       "      <td>0</td>\n",
       "      <td>61</td>\n",
       "      <td>0</td>\n",
       "      <td>0</td>\n",
       "      <td>0</td>\n",
       "      <td>0</td>\n",
       "      <td>NaN</td>\n",
       "      <td>NaN</td>\n",
       "      <td>NaN</td>\n",
       "      <td>0</td>\n",
       "      <td>2</td>\n",
       "      <td>2008</td>\n",
       "      <td>WD</td>\n",
       "      <td>Normal</td>\n",
       "      <td>208500</td>\n",
       "    </tr>\n",
       "    <tr>\n",
       "      <th>1</th>\n",
       "      <td>2</td>\n",
       "      <td>20</td>\n",
       "      <td>RL</td>\n",
       "      <td>80.0</td>\n",
       "      <td>9600</td>\n",
       "      <td>Pave</td>\n",
       "      <td>NaN</td>\n",
       "      <td>Reg</td>\n",
       "      <td>Lvl</td>\n",
       "      <td>AllPub</td>\n",
       "      <td>FR2</td>\n",
       "      <td>Gtl</td>\n",
       "      <td>Veenker</td>\n",
       "      <td>Feedr</td>\n",
       "      <td>Norm</td>\n",
       "      <td>1Fam</td>\n",
       "      <td>1Story</td>\n",
       "      <td>6</td>\n",
       "      <td>8</td>\n",
       "      <td>1976</td>\n",
       "      <td>1976</td>\n",
       "      <td>Gable</td>\n",
       "      <td>CompShg</td>\n",
       "      <td>MetalSd</td>\n",
       "      <td>MetalSd</td>\n",
       "      <td>None</td>\n",
       "      <td>0.0</td>\n",
       "      <td>TA</td>\n",
       "      <td>TA</td>\n",
       "      <td>CBlock</td>\n",
       "      <td>Gd</td>\n",
       "      <td>TA</td>\n",
       "      <td>Gd</td>\n",
       "      <td>ALQ</td>\n",
       "      <td>978</td>\n",
       "      <td>Unf</td>\n",
       "      <td>0</td>\n",
       "      <td>284</td>\n",
       "      <td>1262</td>\n",
       "      <td>GasA</td>\n",
       "      <td>...</td>\n",
       "      <td>Y</td>\n",
       "      <td>SBrkr</td>\n",
       "      <td>1262</td>\n",
       "      <td>0</td>\n",
       "      <td>0</td>\n",
       "      <td>1262</td>\n",
       "      <td>0</td>\n",
       "      <td>1</td>\n",
       "      <td>2</td>\n",
       "      <td>0</td>\n",
       "      <td>3</td>\n",
       "      <td>1</td>\n",
       "      <td>TA</td>\n",
       "      <td>6</td>\n",
       "      <td>Typ</td>\n",
       "      <td>1</td>\n",
       "      <td>TA</td>\n",
       "      <td>Attchd</td>\n",
       "      <td>1976.0</td>\n",
       "      <td>RFn</td>\n",
       "      <td>2</td>\n",
       "      <td>460</td>\n",
       "      <td>TA</td>\n",
       "      <td>TA</td>\n",
       "      <td>Y</td>\n",
       "      <td>298</td>\n",
       "      <td>0</td>\n",
       "      <td>0</td>\n",
       "      <td>0</td>\n",
       "      <td>0</td>\n",
       "      <td>0</td>\n",
       "      <td>NaN</td>\n",
       "      <td>NaN</td>\n",
       "      <td>NaN</td>\n",
       "      <td>0</td>\n",
       "      <td>5</td>\n",
       "      <td>2007</td>\n",
       "      <td>WD</td>\n",
       "      <td>Normal</td>\n",
       "      <td>181500</td>\n",
       "    </tr>\n",
       "    <tr>\n",
       "      <th>2</th>\n",
       "      <td>3</td>\n",
       "      <td>60</td>\n",
       "      <td>RL</td>\n",
       "      <td>68.0</td>\n",
       "      <td>11250</td>\n",
       "      <td>Pave</td>\n",
       "      <td>NaN</td>\n",
       "      <td>IR1</td>\n",
       "      <td>Lvl</td>\n",
       "      <td>AllPub</td>\n",
       "      <td>Inside</td>\n",
       "      <td>Gtl</td>\n",
       "      <td>CollgCr</td>\n",
       "      <td>Norm</td>\n",
       "      <td>Norm</td>\n",
       "      <td>1Fam</td>\n",
       "      <td>2Story</td>\n",
       "      <td>7</td>\n",
       "      <td>5</td>\n",
       "      <td>2001</td>\n",
       "      <td>2002</td>\n",
       "      <td>Gable</td>\n",
       "      <td>CompShg</td>\n",
       "      <td>VinylSd</td>\n",
       "      <td>VinylSd</td>\n",
       "      <td>BrkFace</td>\n",
       "      <td>162.0</td>\n",
       "      <td>Gd</td>\n",
       "      <td>TA</td>\n",
       "      <td>PConc</td>\n",
       "      <td>Gd</td>\n",
       "      <td>TA</td>\n",
       "      <td>Mn</td>\n",
       "      <td>GLQ</td>\n",
       "      <td>486</td>\n",
       "      <td>Unf</td>\n",
       "      <td>0</td>\n",
       "      <td>434</td>\n",
       "      <td>920</td>\n",
       "      <td>GasA</td>\n",
       "      <td>...</td>\n",
       "      <td>Y</td>\n",
       "      <td>SBrkr</td>\n",
       "      <td>920</td>\n",
       "      <td>866</td>\n",
       "      <td>0</td>\n",
       "      <td>1786</td>\n",
       "      <td>1</td>\n",
       "      <td>0</td>\n",
       "      <td>2</td>\n",
       "      <td>1</td>\n",
       "      <td>3</td>\n",
       "      <td>1</td>\n",
       "      <td>Gd</td>\n",
       "      <td>6</td>\n",
       "      <td>Typ</td>\n",
       "      <td>1</td>\n",
       "      <td>TA</td>\n",
       "      <td>Attchd</td>\n",
       "      <td>2001.0</td>\n",
       "      <td>RFn</td>\n",
       "      <td>2</td>\n",
       "      <td>608</td>\n",
       "      <td>TA</td>\n",
       "      <td>TA</td>\n",
       "      <td>Y</td>\n",
       "      <td>0</td>\n",
       "      <td>42</td>\n",
       "      <td>0</td>\n",
       "      <td>0</td>\n",
       "      <td>0</td>\n",
       "      <td>0</td>\n",
       "      <td>NaN</td>\n",
       "      <td>NaN</td>\n",
       "      <td>NaN</td>\n",
       "      <td>0</td>\n",
       "      <td>9</td>\n",
       "      <td>2008</td>\n",
       "      <td>WD</td>\n",
       "      <td>Normal</td>\n",
       "      <td>223500</td>\n",
       "    </tr>\n",
       "    <tr>\n",
       "      <th>3</th>\n",
       "      <td>4</td>\n",
       "      <td>70</td>\n",
       "      <td>RL</td>\n",
       "      <td>60.0</td>\n",
       "      <td>9550</td>\n",
       "      <td>Pave</td>\n",
       "      <td>NaN</td>\n",
       "      <td>IR1</td>\n",
       "      <td>Lvl</td>\n",
       "      <td>AllPub</td>\n",
       "      <td>Corner</td>\n",
       "      <td>Gtl</td>\n",
       "      <td>Crawfor</td>\n",
       "      <td>Norm</td>\n",
       "      <td>Norm</td>\n",
       "      <td>1Fam</td>\n",
       "      <td>2Story</td>\n",
       "      <td>7</td>\n",
       "      <td>5</td>\n",
       "      <td>1915</td>\n",
       "      <td>1970</td>\n",
       "      <td>Gable</td>\n",
       "      <td>CompShg</td>\n",
       "      <td>Wd Sdng</td>\n",
       "      <td>Wd Shng</td>\n",
       "      <td>None</td>\n",
       "      <td>0.0</td>\n",
       "      <td>TA</td>\n",
       "      <td>TA</td>\n",
       "      <td>BrkTil</td>\n",
       "      <td>TA</td>\n",
       "      <td>Gd</td>\n",
       "      <td>No</td>\n",
       "      <td>ALQ</td>\n",
       "      <td>216</td>\n",
       "      <td>Unf</td>\n",
       "      <td>0</td>\n",
       "      <td>540</td>\n",
       "      <td>756</td>\n",
       "      <td>GasA</td>\n",
       "      <td>...</td>\n",
       "      <td>Y</td>\n",
       "      <td>SBrkr</td>\n",
       "      <td>961</td>\n",
       "      <td>756</td>\n",
       "      <td>0</td>\n",
       "      <td>1717</td>\n",
       "      <td>1</td>\n",
       "      <td>0</td>\n",
       "      <td>1</td>\n",
       "      <td>0</td>\n",
       "      <td>3</td>\n",
       "      <td>1</td>\n",
       "      <td>Gd</td>\n",
       "      <td>7</td>\n",
       "      <td>Typ</td>\n",
       "      <td>1</td>\n",
       "      <td>Gd</td>\n",
       "      <td>Detchd</td>\n",
       "      <td>1998.0</td>\n",
       "      <td>Unf</td>\n",
       "      <td>3</td>\n",
       "      <td>642</td>\n",
       "      <td>TA</td>\n",
       "      <td>TA</td>\n",
       "      <td>Y</td>\n",
       "      <td>0</td>\n",
       "      <td>35</td>\n",
       "      <td>272</td>\n",
       "      <td>0</td>\n",
       "      <td>0</td>\n",
       "      <td>0</td>\n",
       "      <td>NaN</td>\n",
       "      <td>NaN</td>\n",
       "      <td>NaN</td>\n",
       "      <td>0</td>\n",
       "      <td>2</td>\n",
       "      <td>2006</td>\n",
       "      <td>WD</td>\n",
       "      <td>Abnorml</td>\n",
       "      <td>140000</td>\n",
       "    </tr>\n",
       "    <tr>\n",
       "      <th>4</th>\n",
       "      <td>5</td>\n",
       "      <td>60</td>\n",
       "      <td>RL</td>\n",
       "      <td>84.0</td>\n",
       "      <td>14260</td>\n",
       "      <td>Pave</td>\n",
       "      <td>NaN</td>\n",
       "      <td>IR1</td>\n",
       "      <td>Lvl</td>\n",
       "      <td>AllPub</td>\n",
       "      <td>FR2</td>\n",
       "      <td>Gtl</td>\n",
       "      <td>NoRidge</td>\n",
       "      <td>Norm</td>\n",
       "      <td>Norm</td>\n",
       "      <td>1Fam</td>\n",
       "      <td>2Story</td>\n",
       "      <td>8</td>\n",
       "      <td>5</td>\n",
       "      <td>2000</td>\n",
       "      <td>2000</td>\n",
       "      <td>Gable</td>\n",
       "      <td>CompShg</td>\n",
       "      <td>VinylSd</td>\n",
       "      <td>VinylSd</td>\n",
       "      <td>BrkFace</td>\n",
       "      <td>350.0</td>\n",
       "      <td>Gd</td>\n",
       "      <td>TA</td>\n",
       "      <td>PConc</td>\n",
       "      <td>Gd</td>\n",
       "      <td>TA</td>\n",
       "      <td>Av</td>\n",
       "      <td>GLQ</td>\n",
       "      <td>655</td>\n",
       "      <td>Unf</td>\n",
       "      <td>0</td>\n",
       "      <td>490</td>\n",
       "      <td>1145</td>\n",
       "      <td>GasA</td>\n",
       "      <td>...</td>\n",
       "      <td>Y</td>\n",
       "      <td>SBrkr</td>\n",
       "      <td>1145</td>\n",
       "      <td>1053</td>\n",
       "      <td>0</td>\n",
       "      <td>2198</td>\n",
       "      <td>1</td>\n",
       "      <td>0</td>\n",
       "      <td>2</td>\n",
       "      <td>1</td>\n",
       "      <td>4</td>\n",
       "      <td>1</td>\n",
       "      <td>Gd</td>\n",
       "      <td>9</td>\n",
       "      <td>Typ</td>\n",
       "      <td>1</td>\n",
       "      <td>TA</td>\n",
       "      <td>Attchd</td>\n",
       "      <td>2000.0</td>\n",
       "      <td>RFn</td>\n",
       "      <td>3</td>\n",
       "      <td>836</td>\n",
       "      <td>TA</td>\n",
       "      <td>TA</td>\n",
       "      <td>Y</td>\n",
       "      <td>192</td>\n",
       "      <td>84</td>\n",
       "      <td>0</td>\n",
       "      <td>0</td>\n",
       "      <td>0</td>\n",
       "      <td>0</td>\n",
       "      <td>NaN</td>\n",
       "      <td>NaN</td>\n",
       "      <td>NaN</td>\n",
       "      <td>0</td>\n",
       "      <td>12</td>\n",
       "      <td>2008</td>\n",
       "      <td>WD</td>\n",
       "      <td>Normal</td>\n",
       "      <td>250000</td>\n",
       "    </tr>\n",
       "  </tbody>\n",
       "</table>\n",
       "</div>"
      ],
      "text/plain": [
       "   Id  MSSubClass MSZoning    ...     SaleType  SaleCondition SalePrice\n",
       "0   1          60       RL    ...           WD         Normal    208500\n",
       "1   2          20       RL    ...           WD         Normal    181500\n",
       "2   3          60       RL    ...           WD         Normal    223500\n",
       "3   4          70       RL    ...           WD        Abnorml    140000\n",
       "4   5          60       RL    ...           WD         Normal    250000\n",
       "\n",
       "[5 rows x 81 columns]"
      ]
     },
     "execution_count": 5,
     "metadata": {},
     "output_type": "execute_result"
    }
   ],
   "source": [
    "df_raw.head()\n",
    "\n"
   ]
  },
  {
   "cell_type": "code",
   "execution_count": 6,
   "metadata": {
    "_uuid": "92fe0952ab8425fa182d5575c055163df8f74b7b",
    "scrolled": true
   },
   "outputs": [
    {
     "name": "stdout",
     "output_type": "stream",
     "text": [
      "<class 'pandas.core.frame.DataFrame'>\n",
      "RangeIndex: 1460 entries, 0 to 1459\n",
      "Data columns (total 81 columns):\n",
      "Id               1460 non-null int64\n",
      "MSSubClass       1460 non-null int64\n",
      "MSZoning         1460 non-null object\n",
      "LotFrontage      1201 non-null float64\n",
      "LotArea          1460 non-null int64\n",
      "Street           1460 non-null object\n",
      "Alley            91 non-null object\n",
      "LotShape         1460 non-null object\n",
      "LandContour      1460 non-null object\n",
      "Utilities        1460 non-null object\n",
      "LotConfig        1460 non-null object\n",
      "LandSlope        1460 non-null object\n",
      "Neighborhood     1460 non-null object\n",
      "Condition1       1460 non-null object\n",
      "Condition2       1460 non-null object\n",
      "BldgType         1460 non-null object\n",
      "HouseStyle       1460 non-null object\n",
      "OverallQual      1460 non-null int64\n",
      "OverallCond      1460 non-null int64\n",
      "YearBuilt        1460 non-null int64\n",
      "YearRemodAdd     1460 non-null int64\n",
      "RoofStyle        1460 non-null object\n",
      "RoofMatl         1460 non-null object\n",
      "Exterior1st      1460 non-null object\n",
      "Exterior2nd      1460 non-null object\n",
      "MasVnrType       1452 non-null object\n",
      "MasVnrArea       1452 non-null float64\n",
      "ExterQual        1460 non-null object\n",
      "ExterCond        1460 non-null object\n",
      "Foundation       1460 non-null object\n",
      "BsmtQual         1423 non-null object\n",
      "BsmtCond         1423 non-null object\n",
      "BsmtExposure     1422 non-null object\n",
      "BsmtFinType1     1423 non-null object\n",
      "BsmtFinSF1       1460 non-null int64\n",
      "BsmtFinType2     1422 non-null object\n",
      "BsmtFinSF2       1460 non-null int64\n",
      "BsmtUnfSF        1460 non-null int64\n",
      "TotalBsmtSF      1460 non-null int64\n",
      "Heating          1460 non-null object\n",
      "HeatingQC        1460 non-null object\n",
      "CentralAir       1460 non-null object\n",
      "Electrical       1459 non-null object\n",
      "1stFlrSF         1460 non-null int64\n",
      "2ndFlrSF         1460 non-null int64\n",
      "LowQualFinSF     1460 non-null int64\n",
      "GrLivArea        1460 non-null int64\n",
      "BsmtFullBath     1460 non-null int64\n",
      "BsmtHalfBath     1460 non-null int64\n",
      "FullBath         1460 non-null int64\n",
      "HalfBath         1460 non-null int64\n",
      "BedroomAbvGr     1460 non-null int64\n",
      "KitchenAbvGr     1460 non-null int64\n",
      "KitchenQual      1460 non-null object\n",
      "TotRmsAbvGrd     1460 non-null int64\n",
      "Functional       1460 non-null object\n",
      "Fireplaces       1460 non-null int64\n",
      "FireplaceQu      770 non-null object\n",
      "GarageType       1379 non-null object\n",
      "GarageYrBlt      1379 non-null float64\n",
      "GarageFinish     1379 non-null object\n",
      "GarageCars       1460 non-null int64\n",
      "GarageArea       1460 non-null int64\n",
      "GarageQual       1379 non-null object\n",
      "GarageCond       1379 non-null object\n",
      "PavedDrive       1460 non-null object\n",
      "WoodDeckSF       1460 non-null int64\n",
      "OpenPorchSF      1460 non-null int64\n",
      "EnclosedPorch    1460 non-null int64\n",
      "3SsnPorch        1460 non-null int64\n",
      "ScreenPorch      1460 non-null int64\n",
      "PoolArea         1460 non-null int64\n",
      "PoolQC           7 non-null object\n",
      "Fence            281 non-null object\n",
      "MiscFeature      54 non-null object\n",
      "MiscVal          1460 non-null int64\n",
      "MoSold           1460 non-null int64\n",
      "YrSold           1460 non-null int64\n",
      "SaleType         1460 non-null object\n",
      "SaleCondition    1460 non-null object\n",
      "SalePrice        1460 non-null int64\n",
      "dtypes: float64(3), int64(35), object(43)\n",
      "memory usage: 924.0+ KB\n"
     ]
    }
   ],
   "source": [
    "df_raw.info()"
   ]
  },
  {
   "cell_type": "code",
   "execution_count": 7,
   "metadata": {
    "_uuid": "907a9863a3caa10205ff444343e76e43d1a3acd5",
    "scrolled": false
   },
   "outputs": [
    {
     "data": {
      "text/plain": [
       "Index(['Id', 'MSSubClass', 'MSZoning', 'LotFrontage', 'LotArea', 'Street',\n",
       "       'Alley', 'LotShape', 'LandContour', 'Utilities', 'LotConfig',\n",
       "       'LandSlope', 'Neighborhood', 'Condition1', 'Condition2', 'BldgType',\n",
       "       'HouseStyle', 'OverallQual', 'OverallCond', 'YearBuilt', 'YearRemodAdd',\n",
       "       'RoofStyle', 'RoofMatl', 'Exterior1st', 'Exterior2nd', 'MasVnrType',\n",
       "       'MasVnrArea', 'ExterQual', 'ExterCond', 'Foundation', 'BsmtQual',\n",
       "       'BsmtCond', 'BsmtExposure', 'BsmtFinType1', 'BsmtFinSF1',\n",
       "       'BsmtFinType2', 'BsmtFinSF2', 'BsmtUnfSF', 'TotalBsmtSF', 'Heating',\n",
       "       'HeatingQC', 'CentralAir', 'Electrical', '1stFlrSF', '2ndFlrSF',\n",
       "       'LowQualFinSF', 'GrLivArea', 'BsmtFullBath', 'BsmtHalfBath', 'FullBath',\n",
       "       'HalfBath', 'BedroomAbvGr', 'KitchenAbvGr', 'KitchenQual',\n",
       "       'TotRmsAbvGrd', 'Functional', 'Fireplaces', 'FireplaceQu', 'GarageType',\n",
       "       'GarageYrBlt', 'GarageFinish', 'GarageCars', 'GarageArea', 'GarageQual',\n",
       "       'GarageCond', 'PavedDrive', 'WoodDeckSF', 'OpenPorchSF',\n",
       "       'EnclosedPorch', '3SsnPorch', 'ScreenPorch', 'PoolArea', 'PoolQC',\n",
       "       'Fence', 'MiscFeature', 'MiscVal', 'MoSold', 'YrSold', 'SaleType',\n",
       "       'SaleCondition', 'SalePrice'],\n",
       "      dtype='object')"
      ]
     },
     "execution_count": 7,
     "metadata": {},
     "output_type": "execute_result"
    }
   ],
   "source": [
    "df_raw.columns"
   ]
  },
  {
   "cell_type": "markdown",
   "metadata": {
    "_uuid": "bddb71d93ddb585585ab3a8a79c580d52ec0e4c4"
   },
   "source": [
    "**MODEL WITHOUT TUNING**"
   ]
  },
  {
   "cell_type": "code",
   "execution_count": 8,
   "metadata": {
    "_uuid": "84558bc791676b265fe9fa94fb1089929543380a"
   },
   "outputs": [],
   "source": [
    "train_cats(df_raw)"
   ]
  },
  {
   "cell_type": "code",
   "execution_count": 9,
   "metadata": {
    "_uuid": "30547687fbfbbdedeab712c80298288700b799d3"
   },
   "outputs": [],
   "source": [
    "df, y, nas = proc_df(df_raw,'SalePrice')"
   ]
  },
  {
   "cell_type": "code",
   "execution_count": 10,
   "metadata": {
    "_uuid": "135f3bd146b7c0f5c981e8641dd46ed113ea93f9"
   },
   "outputs": [],
   "source": [
    "#if we would like to reorder columns\n",
    "#code:\n",
    "#df_raw.BsmtQual.cat.set_categories(['Fa','Ex','Gd','TA'],oredered= True,inplace=True)"
   ]
  },
  {
   "cell_type": "code",
   "execution_count": 11,
   "metadata": {
    "_uuid": "b1bc144e080d2d8d8e0930e6333aee3f59b39c39",
    "scrolled": true
   },
   "outputs": [],
   "source": [
    "#percentages of missing values\n",
    "#df_raw.isnull().sum().sort_index()/len(df_raw)"
   ]
  },
  {
   "cell_type": "code",
   "execution_count": 12,
   "metadata": {
    "_uuid": "bb1561dd37200906fe04237d3a351ae263cf0848"
   },
   "outputs": [],
   "source": [
    "#RANDOM FOREST MODEL on whole train set (w/o validation)\n",
    "#model_RF = RandomForestRegressor(n_jobs = -1)\n",
    "#model_RF.fit(df, y)\n",
    "#model_RF.score(df,y)\n",
    "\n",
    "#kaggle score error: ~17.7k"
   ]
  },
  {
   "cell_type": "code",
   "execution_count": 13,
   "metadata": {
    "_uuid": "efe6b3e17a566c00a811c571e13a6285b67d0cb4"
   },
   "outputs": [],
   "source": [
    "#XGB MODEL on whole train set (w/o validation)\n",
    "#model_xgb = XGBRegressor(n_jobs=-1)\n",
    "#model_xgb.fit(df,y)\n",
    "#model_xgb.score(df,y)\n",
    "\n",
    "#kaggle score error: ~15.3k"
   ]
  },
  {
   "cell_type": "markdown",
   "metadata": {
    "_uuid": "3b1c48d964262f496245418814337aefb0bfab33"
   },
   "source": [
    "**MODEL WITH PARAMETER TUNING**"
   ]
  },
  {
   "cell_type": "code",
   "execution_count": 14,
   "metadata": {
    "_uuid": "ceb40d2db1addf788b101ac47807fe044562cbe3"
   },
   "outputs": [],
   "source": [
    "#MAKING OF VALIDATION TEST SET\n",
    "\n",
    "#function for spliting values\n",
    "def split_vals(a,n): \n",
    "    return a[:n], a[n:]\n",
    "\n",
    "#400 examples in validation set\n",
    "n_valid = 400\n",
    "n_training = len(df_raw)-n_valid\n",
    "\n",
    "#spliting whole training set\n",
    "\n",
    "raw_train, raw_valid = split_vals(df_raw, n_training)\n"
   ]
  },
  {
   "cell_type": "code",
   "execution_count": 15,
   "metadata": {
    "_uuid": "673aee05980cc6fad97a60fe2f4e4a79209b248d"
   },
   "outputs": [
    {
     "name": "stderr",
     "output_type": "stream",
     "text": [
      "/opt/conda/lib/python3.6/site-packages/fastai/structured.py:204: SettingWithCopyWarning: \n",
      "A value is trying to be set on a copy of a slice from a DataFrame.\n",
      "Try using .loc[row_indexer,col_indexer] = value instead\n",
      "\n",
      "See the caveats in the documentation: http://pandas.pydata.org/pandas-docs/stable/indexing.html#indexing-view-versus-copy\n",
      "  df[n] = pd.Categorical(c, categories=trn[n].cat.categories, ordered=True)\n"
     ]
    }
   ],
   "source": [
    "#imputing and making new columns for categorical data\n",
    "train_cats(raw_train)\n",
    "\n",
    "X_train, y_train, nas = proc_df(raw_train,'SalePrice')\n",
    "\n",
    "#aplying on validation set and alignin it with train set\n",
    "apply_cats(raw_valid,raw_train)\n",
    "X_valid, y_valid, _ = proc_df(raw_valid,'SalePrice', na_dict = nas)"
   ]
  },
  {
   "cell_type": "code",
   "execution_count": 16,
   "metadata": {
    "_uuid": "e8dada9a0f4afcae9f6cf70c9cb44a9c1b068034"
   },
   "outputs": [
    {
     "data": {
      "text/plain": [
       "((1060, 83), (1060,), (400, 83), (400,))"
      ]
     },
     "execution_count": 16,
     "metadata": {},
     "output_type": "execute_result"
    }
   ],
   "source": [
    "X_train.shape, y_train.shape, X_valid.shape, y_valid.shape\n"
   ]
  },
  {
   "cell_type": "code",
   "execution_count": 17,
   "metadata": {
    "_uuid": "ab7d1b79ec96abe11c04c19685926062e26f8065"
   },
   "outputs": [
    {
     "data": {
      "text/plain": [
       "Text(0.5,1,'SalePrice')"
      ]
     },
     "execution_count": 17,
     "metadata": {},
     "output_type": "execute_result"
    },
    {
     "data": {
      "image/png": "[encoded data removed]",
      "text/plain": [
       "<Figure size 1080x360 with 1 Axes>"
      ]
     },
     "metadata": {},
     "output_type": "display_data"
    }
   ],
   "source": [
    "#PLOTING TARGET VARIABLE\n",
    "\n",
    "plot = raw_train.SalePrice.plot(kind=\"hist\", figsize = (15,5), bins = 10, color=\"orange\", fontsize = 13)\n",
    "plot.set_title(\"SalePrice\", fontsize = 15)\n",
    "\n",
    "#Target variable is skewed, has some outliers. But this souldn't hurt RF nor XGB model\n",
    "\n",
    "#Note: This distribution looks like it could be modeled with some beta or gamma distributions..."
   ]
  },
  {
   "cell_type": "markdown",
   "metadata": {
    "_uuid": "4d3f9e5e4334abe38ab8de3c69e864ce4f916701"
   },
   "source": [
    "**FINDING BEST RANDOM FOREST MODEL**"
   ]
  },
  {
   "cell_type": "code",
   "execution_count": 18,
   "metadata": {
    "_uuid": "d4ef86bf936f559f554af0508133b87d4d21535a"
   },
   "outputs": [],
   "source": [
    "#DIGRESSION\n",
    "\n",
    "#set_rf_samples(20000)\n",
    "\n",
    "#use this comand if:\n",
    "#e.g we have millions of training examples, but rather than throwing away some data,\n",
    "#we can limit it to a different random subset per tree.\n",
    "#this way, given enough trees, our model can still see all the data\n",
    "\n",
    "#Notes:\n",
    "# 1) sckit doesn't support this, it's fastai function\n",
    "# 2) to call it off: -> reset_rf_samples()"
   ]
  },
  {
   "cell_type": "code",
   "execution_count": 19,
   "metadata": {
    "_uuid": "93c5770130c76e1c84df4249830c146a9a00943c",
    "scrolled": true
   },
   "outputs": [
    {
     "name": "stdout",
     "output_type": "stream",
     "text": [
      "0.9793174335938089\n",
      "0.8301384697165662\n"
     ]
    }
   ],
   "source": [
    "#this model is very overfitting\n",
    "model_RF = RandomForestRegressor(n_jobs = -1,n_estimators=100,oob_score=True)\n",
    "model_RF.fit(X_train, y_train)\n",
    "print(model_RF.score(X_train,y_train))\n",
    "print(model_RF.score(X_valid,y_valid))"
   ]
  },
  {
   "cell_type": "markdown",
   "metadata": {
    "_uuid": "9f63701f4ad0d967beb1716ff1b53681bc2e17c5"
   },
   "source": [
    "**Trying with tuning min_samples_leaf parameter**"
   ]
  },
  {
   "cell_type": "code",
   "execution_count": 20,
   "metadata": {
    "_uuid": "f0e9a8d5ab680f5b0ac543d72329040b926e53f3"
   },
   "outputs": [
    {
     "name": "stdout",
     "output_type": "stream",
     "text": [
      "0.9807460603208622\n",
      "0.8350934642060658\n"
     ]
    }
   ],
   "source": [
    "model_RF = RandomForestRegressor(n_jobs = -1,n_estimators=100,oob_score=True,min_samples_leaf=1)\n",
    "model_RF.fit(X_train, y_train)\n",
    "print(model_RF.score(X_train,y_train))\n",
    "print(model_RF.score(X_valid,y_valid))\n",
    "\n",
    "#deafault:1 turns out to be fine"
   ]
  },
  {
   "cell_type": "markdown",
   "metadata": {
    "_uuid": "bcfe1c7b33da87a243df73145dbd4aa368564f8a"
   },
   "source": [
    "**Trying max_features**"
   ]
  },
  {
   "cell_type": "code",
   "execution_count": 21,
   "metadata": {
    "_uuid": "b337c52f775386553678ada1e3687fec98392d6a",
    "scrolled": true
   },
   "outputs": [
    {
     "name": "stderr",
     "output_type": "stream",
     "text": [
      "/opt/conda/lib/python3.6/site-packages/sklearn/ensemble/forest.py:246: FutureWarning: The default value of n_estimators will change from 10 in version 0.20 to 100 in 0.22.\n",
      "  \"10 in version 0.20 to 100 in 0.22.\", FutureWarning)\n",
      "/opt/conda/lib/python3.6/site-packages/sklearn/ensemble/forest.py:732: UserWarning: Some inputs do not have OOB scores. This probably means too few trees were used to compute any reliable oob estimates.\n",
      "  warn(\"Some inputs do not have OOB scores. \"\n"
     ]
    },
    {
     "name": "stdout",
     "output_type": "stream",
     "text": [
      "0.9749134162296236\n",
      "0.8459567732620903\n"
     ]
    }
   ],
   "source": [
    "model_RF = RandomForestRegressor(n_jobs = -1,oob_score=True,max_features=0.5)\n",
    "model_RF.fit(X_train, y_train)\n",
    "print(model_RF.score(X_train,y_train))\n",
    "print(model_RF.score(X_valid,y_valid))\n",
    "#it helps a bit"
   ]
  },
  {
   "cell_type": "markdown",
   "metadata": {
    "_uuid": "bbee4536296452bba10b9fc9fbaa1a71a2341d7b"
   },
   "source": [
    "**intrepeting the model**"
   ]
  },
  {
   "cell_type": "code",
   "execution_count": 22,
   "metadata": {
    "_uuid": "30f30accb6435598521e9e09863b740e4542dfe0"
   },
   "outputs": [
    {
     "data": {
      "text/html": [
       "<div>\n",
       "<style scoped>\n",
       "    .dataframe tbody tr th:only-of-type {\n",
       "        vertical-align: middle;\n",
       "    }\n",
       "\n",
       "    .dataframe tbody tr th {\n",
       "        vertical-align: top;\n",
       "    }\n",
       "\n",
       "    .dataframe thead th {\n",
       "        text-align: right;\n",
       "    }\n",
       "</style>\n",
       "<table border=\"1\" class=\"dataframe\">\n",
       "  <thead>\n",
       "    <tr style=\"text-align: right;\">\n",
       "      <th></th>\n",
       "      <th>cols</th>\n",
       "      <th>imp</th>\n",
       "    </tr>\n",
       "  </thead>\n",
       "  <tbody>\n",
       "    <tr>\n",
       "      <th>17</th>\n",
       "      <td>OverallQual</td>\n",
       "      <td>0.383500</td>\n",
       "    </tr>\n",
       "    <tr>\n",
       "      <th>61</th>\n",
       "      <td>GarageCars</td>\n",
       "      <td>0.200569</td>\n",
       "    </tr>\n",
       "    <tr>\n",
       "      <th>46</th>\n",
       "      <td>GrLivArea</td>\n",
       "      <td>0.116091</td>\n",
       "    </tr>\n",
       "    <tr>\n",
       "      <th>43</th>\n",
       "      <td>1stFlrSF</td>\n",
       "      <td>0.036464</td>\n",
       "    </tr>\n",
       "    <tr>\n",
       "      <th>44</th>\n",
       "      <td>2ndFlrSF</td>\n",
       "      <td>0.033414</td>\n",
       "    </tr>\n",
       "    <tr>\n",
       "      <th>38</th>\n",
       "      <td>TotalBsmtSF</td>\n",
       "      <td>0.028575</td>\n",
       "    </tr>\n",
       "    <tr>\n",
       "      <th>4</th>\n",
       "      <td>LotArea</td>\n",
       "      <td>0.019684</td>\n",
       "    </tr>\n",
       "    <tr>\n",
       "      <th>59</th>\n",
       "      <td>GarageYrBlt</td>\n",
       "      <td>0.019045</td>\n",
       "    </tr>\n",
       "    <tr>\n",
       "      <th>34</th>\n",
       "      <td>BsmtFinSF1</td>\n",
       "      <td>0.016690</td>\n",
       "    </tr>\n",
       "    <tr>\n",
       "      <th>19</th>\n",
       "      <td>YearBuilt</td>\n",
       "      <td>0.009956</td>\n",
       "    </tr>\n",
       "  </tbody>\n",
       "</table>\n",
       "</div>"
      ],
      "text/plain": [
       "           cols       imp\n",
       "17  OverallQual  0.383500\n",
       "61   GarageCars  0.200569\n",
       "46    GrLivArea  0.116091\n",
       "43     1stFlrSF  0.036464\n",
       "44     2ndFlrSF  0.033414\n",
       "38  TotalBsmtSF  0.028575\n",
       "4       LotArea  0.019684\n",
       "59  GarageYrBlt  0.019045\n",
       "34   BsmtFinSF1  0.016690\n",
       "19    YearBuilt  0.009956"
      ]
     },
     "execution_count": 22,
     "metadata": {},
     "output_type": "execute_result"
    }
   ],
   "source": [
    "fi = rf_feat_importance(model_RF, X_train )\n",
    "\n",
    "fi[:10]\n"
   ]
  },
  {
   "cell_type": "code",
   "execution_count": 23,
   "metadata": {
    "_uuid": "020cda663233d8d536752ed1fa6ffc238ca74698"
   },
   "outputs": [],
   "source": [
    "#so OverallQual is by far the most important, and so on..."
   ]
  },
  {
   "cell_type": "markdown",
   "metadata": {
    "_uuid": "255f3fbc23c105f85744ed93b514b185d5fa6deb"
   },
   "source": [
    "**THE FINDING BEST XGB MODEL**"
   ]
  },
  {
   "cell_type": "code",
   "execution_count": 24,
   "metadata": {
    "_uuid": "67f6b2fed66f82008aeb14f9a4f415521f212faa"
   },
   "outputs": [
    {
     "name": "stdout",
     "output_type": "stream",
     "text": [
      "0.9934121290736597\n",
      "0.8906760462321587\n"
     ]
    }
   ],
   "source": [
    "#XGB is significantly less overfitting than RandomForest model\n",
    "model_xgb = XGBRegressor(n_jobs = -1,n_estimators=500,random_state=5,max_depth=3,reg_lambda=1)\n",
    "model_xgb.fit(X_train, y_train)\n",
    "print(model_xgb.score(X_train,y_train))\n",
    "print(model_xgb.score(X_valid,y_valid))"
   ]
  },
  {
   "cell_type": "code",
   "execution_count": 25,
   "metadata": {
    "_uuid": "efdcc97cb50be81ebdfca05bb7177fd9608e57bf"
   },
   "outputs": [
    {
     "name": "stdout",
     "output_type": "stream",
     "text": [
      "4722.604705925707\n",
      "15740.45638671875\n"
     ]
    }
   ],
   "source": [
    "predt = model_xgb.predict(X_train)\n",
    "predv = model_xgb.predict(X_valid)\n",
    "\n",
    "print(mean_absolute_error(y_train,predt))\n",
    "print(mean_absolute_error(y_valid,predv))\n"
   ]
  },
  {
   "cell_type": "markdown",
   "metadata": {
    "_uuid": "e61837061a53bbf23c20c643c6287e59a9256e99"
   },
   "source": [
    "**FINDING THE BEST REG_LAMBDA VALUE**"
   ]
  },
  {
   "cell_type": "code",
   "execution_count": 26,
   "metadata": {
    "_uuid": "baa6fc6c8bdf1d92475f2190d96cfc688e8380d5"
   },
   "outputs": [
    {
     "data": {
      "text/plain": [
       "array([  0.01,   0.02,   0.04,   0.08,   0.16,   0.32,   0.64,   1.28,   2.56,   5.12,  10.24,  20.48,\n",
       "        40.96,  81.92, 163.84])"
      ]
     },
     "execution_count": 26,
     "metadata": {},
     "output_type": "execute_result"
    }
   ],
   "source": [
    "lambdas = np.array([0.01 * ( 2 ** i) for i in range(15)])\n",
    "\n",
    "lambdas"
   ]
  },
  {
   "cell_type": "code",
   "execution_count": 27,
   "metadata": {
    "_uuid": "c96869900059758e700f1bbd7b84c33c4a0de944"
   },
   "outputs": [
    {
     "name": "stdout",
     "output_type": "stream",
     "text": [
      "[0.99546 0.99561 0.9951  0.99509 0.99542 0.99476 0.99433 0.99341 0.99236 0.99131 0.98861 0.9863  0.98126\n",
      " 0.97452 0.96485]\n",
      "[0.87054 0.87681 0.88901 0.87644 0.884   0.89196 0.8783  0.89131 0.89578 0.89538 0.89031 0.88659 0.88335\n",
      " 0.87243 0.85947]\n"
     ]
    }
   ],
   "source": [
    "scores_train = np.zeros(15)\n",
    "scores_valid = np.zeros(15)\n",
    "\n",
    "\n",
    "for i in range(15):\n",
    "    model_xgb = XGBRegressor(n_jobs = -1,n_estimators=500,random_state=5,max_depth=3,reg_lambda=lambdas[i])\n",
    "    model_xgb.fit(X_train, y_train)\n",
    "    scores_train[i] = model_xgb.score(X_train,y_train)\n",
    "    scores_valid[i] = model_xgb.score(X_valid,y_valid)\n",
    "    \n",
    "print(scores_train)\n",
    "print(scores_valid)\n",
    "\n",
    "# reg_lambda = 0.64 is fine "
   ]
  },
  {
   "cell_type": "code",
   "execution_count": 28,
   "metadata": {
    "_uuid": "9ed32caac28dd762e8048c8e921181cb76ec1980",
    "scrolled": true
   },
   "outputs": [
    {
     "name": "stdout",
     "output_type": "stream",
     "text": [
      "0.9936389419411166\n",
      "0.8849730312602173\n"
     ]
    }
   ],
   "source": [
    "model_xgb = XGBRegressor(n_jobs = -1,n_estimators=450,random_state=5,max_depth=3,reg_lambda=0.45)\n",
    "model_xgb.fit(X_train, y_train)\n",
    "print(model_xgb.score(X_train,y_train))\n",
    "print(model_xgb.score(X_valid,y_valid))"
   ]
  },
  {
   "cell_type": "code",
   "execution_count": 29,
   "metadata": {
    "_uuid": "8e98d1da05de86fea3be0a3fa0d0cb2055d3b32c"
   },
   "outputs": [
    {
     "name": "stdout",
     "output_type": "stream",
     "text": [
      "4824.392832399764\n",
      "16217.2166796875\n"
     ]
    }
   ],
   "source": [
    "predt = model_xgb.predict(X_train)\n",
    "predv = model_xgb.predict(X_valid)\n",
    "\n",
    "#competition measure score\n",
    "print(mean_absolute_error(y_train,predt))\n",
    "print(mean_absolute_error(y_valid,predv))\n"
   ]
  },
  {
   "cell_type": "code",
   "execution_count": 30,
   "metadata": {
    "_uuid": "55f918adf0c978583c7b12d5cfaf8e10b7943411"
   },
   "outputs": [
    {
     "data": {
      "text/plain": [
       "XGBRegressor(base_score=0.5, booster='gbtree', colsample_bylevel=1,\n",
       "       colsample_bytree=1, gamma=0, importance_type='gain',\n",
       "       learning_rate=0.1, max_delta_step=0, max_depth=3,\n",
       "       min_child_weight=1, missing=None, n_estimators=10000, n_jobs=-1,\n",
       "       nthread=None, objective='reg:linear', random_state=5, reg_alpha=0,\n",
       "       reg_lambda=0.45, scale_pos_weight=1, seed=None, silent=True,\n",
       "       subsample=1)"
      ]
     },
     "execution_count": 30,
     "metadata": {},
     "output_type": "execute_result"
    }
   ],
   "source": [
    "#BEST MODEL KAGGLE SCORED MODEL (turns out lambda = 0.45 is better than 0.64)\n",
    "model_xgb = XGBRegressor(n_jobs = -1,n_estimators=10000,random_state=5,max_depth=3,reg_lambda=0.45)\n",
    "model_xgb.fit(df,y)\n",
    "\n",
    "#score 14.6k $"
   ]
  },
  {
   "cell_type": "markdown",
   "metadata": {
    "_uuid": "d2d9ca5e9ca4905e7448c0b06d77a7c1a6094e95"
   },
   "source": [
    "# Make Predictions"
   ]
  },
  {
   "cell_type": "code",
   "execution_count": 31,
   "metadata": {
    "_uuid": "06c7e852121e9d60328df9dcd3d585fe8b4bccc0"
   },
   "outputs": [],
   "source": [
    "# path to file you will use for predictions\n",
    "test_data_path = '../input/test.csv'\n",
    "\n",
    "# read test data file using pandas\n",
    "test_data = pd.read_csv(test_data_path,low_memory=False)\n",
    "\n",
    "apply_cats(test_data,df_raw)\n",
    "\n",
    "test_processed_df, _, _ = proc_df(test_data, na_dict = nas)\n"
   ]
  },
  {
   "cell_type": "code",
   "execution_count": 32,
   "metadata": {
    "_uuid": "f8fdd20314b973a374529154695da6b55efe1d07"
   },
   "outputs": [],
   "source": [
    "test_preds = model_xgb.predict(test_processed_df)"
   ]
  },
  {
   "cell_type": "code",
   "execution_count": 33,
   "metadata": {
    "_uuid": "71e55ec82f39e97224e7d88fab43b59102023275"
   },
   "outputs": [],
   "source": [
    "output = pd.DataFrame({'Id': test_data.Id,\n",
    "                       'SalePrice': test_preds})\n",
    "output.to_csv('submission.csv', index=False)"
   ]
  }
 ],
 "metadata": {
  "kernelspec": {
   "display_name": "Python 3",
   "language": "python",
   "name": "python3"
  },
  "language_info": {
   "codemirror_mode": {
    "name": "ipython",
    "version": 3
   },
   "file_extension": ".py",
   "mimetype": "text/x-python",
   "name": "python",
   "nbconvert_exporter": "python",
   "pygments_lexer": "ipython3",
   "version": "3.6.6"
  }
 },
 "nbformat": 4,
 "nbformat_minor": 1
}
